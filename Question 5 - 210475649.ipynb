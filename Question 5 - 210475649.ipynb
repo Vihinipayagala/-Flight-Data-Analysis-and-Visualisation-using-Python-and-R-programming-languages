{
 "cells": [
  {
   "cell_type": "markdown",
   "id": "e4e3b0bd",
   "metadata": {},
   "source": [
    "# Use the available variables to construct a model that predicts delays,"
   ]
  },
  {
   "cell_type": "code",
   "execution_count": 1,
   "id": "eb8626c3",
   "metadata": {},
   "outputs": [],
   "source": [
    "import numpy as np\n",
    "import pandas as pd\n",
    "from sklearn.model_selection import train_test_split\n",
    "from sklearn.preprocessing import StandardScaler\n",
    "from sklearn.metrics import confusion_matrix\n",
    "from sklearn.metrics import  accuracy_score, roc_curve, roc_auc_score\n",
    "from sklearn.metrics import classification_report\n",
    "from sklearn.linear_model import LogisticRegression\n",
    "import seaborn as sns\n",
    "import matplotlib.pyplot as plt"
   ]
  },
  {
   "cell_type": "markdown",
   "id": "2e126f2a",
   "metadata": {},
   "source": [
    "## Importing the dataset required for Q5"
   ]
  },
  {
   "cell_type": "code",
   "execution_count": 2,
   "id": "4b779e0e",
   "metadata": {},
   "outputs": [
    {
     "data": {
      "text/html": [
       "<div>\n",
       "<style scoped>\n",
       "    .dataframe tbody tr th:only-of-type {\n",
       "        vertical-align: middle;\n",
       "    }\n",
       "\n",
       "    .dataframe tbody tr th {\n",
       "        vertical-align: top;\n",
       "    }\n",
       "\n",
       "    .dataframe thead th {\n",
       "        text-align: right;\n",
       "    }\n",
       "</style>\n",
       "<table border=\"1\" class=\"dataframe\">\n",
       "  <thead>\n",
       "    <tr style=\"text-align: right;\">\n",
       "      <th></th>\n",
       "      <th>Year</th>\n",
       "      <th>Month</th>\n",
       "      <th>DayofMonth</th>\n",
       "      <th>DayOfWeek</th>\n",
       "      <th>DepTime</th>\n",
       "      <th>CRSDepTime</th>\n",
       "      <th>ArrTime</th>\n",
       "      <th>CRSArrTime</th>\n",
       "      <th>UniqueCarrier</th>\n",
       "      <th>FlightNum</th>\n",
       "      <th>...</th>\n",
       "      <th>TaxiIn</th>\n",
       "      <th>TaxiOut</th>\n",
       "      <th>Cancelled</th>\n",
       "      <th>Diverted</th>\n",
       "      <th>CarrierDelay</th>\n",
       "      <th>WeatherDelay</th>\n",
       "      <th>NASDelay</th>\n",
       "      <th>SecurityDelay</th>\n",
       "      <th>LateAircraftDelay</th>\n",
       "      <th>Total_Delay</th>\n",
       "    </tr>\n",
       "  </thead>\n",
       "  <tbody>\n",
       "    <tr>\n",
       "      <th>0</th>\n",
       "      <td>2006</td>\n",
       "      <td>1</td>\n",
       "      <td>11</td>\n",
       "      <td>3</td>\n",
       "      <td>743</td>\n",
       "      <td>745</td>\n",
       "      <td>1024</td>\n",
       "      <td>1018</td>\n",
       "      <td>US</td>\n",
       "      <td>343</td>\n",
       "      <td>...</td>\n",
       "      <td>45</td>\n",
       "      <td>13</td>\n",
       "      <td>0</td>\n",
       "      <td>0</td>\n",
       "      <td>0</td>\n",
       "      <td>0</td>\n",
       "      <td>0</td>\n",
       "      <td>0</td>\n",
       "      <td>0</td>\n",
       "      <td>4</td>\n",
       "    </tr>\n",
       "    <tr>\n",
       "      <th>1</th>\n",
       "      <td>2006</td>\n",
       "      <td>1</td>\n",
       "      <td>11</td>\n",
       "      <td>3</td>\n",
       "      <td>1053</td>\n",
       "      <td>1053</td>\n",
       "      <td>1313</td>\n",
       "      <td>1318</td>\n",
       "      <td>US</td>\n",
       "      <td>613</td>\n",
       "      <td>...</td>\n",
       "      <td>27</td>\n",
       "      <td>19</td>\n",
       "      <td>0</td>\n",
       "      <td>0</td>\n",
       "      <td>0</td>\n",
       "      <td>0</td>\n",
       "      <td>0</td>\n",
       "      <td>0</td>\n",
       "      <td>0</td>\n",
       "      <td>-5</td>\n",
       "    </tr>\n",
       "    <tr>\n",
       "      <th>2</th>\n",
       "      <td>2006</td>\n",
       "      <td>1</td>\n",
       "      <td>11</td>\n",
       "      <td>3</td>\n",
       "      <td>1915</td>\n",
       "      <td>1915</td>\n",
       "      <td>2110</td>\n",
       "      <td>2133</td>\n",
       "      <td>US</td>\n",
       "      <td>617</td>\n",
       "      <td>...</td>\n",
       "      <td>4</td>\n",
       "      <td>11</td>\n",
       "      <td>0</td>\n",
       "      <td>0</td>\n",
       "      <td>0</td>\n",
       "      <td>0</td>\n",
       "      <td>0</td>\n",
       "      <td>0</td>\n",
       "      <td>0</td>\n",
       "      <td>-23</td>\n",
       "    </tr>\n",
       "    <tr>\n",
       "      <th>3</th>\n",
       "      <td>2006</td>\n",
       "      <td>1</td>\n",
       "      <td>11</td>\n",
       "      <td>3</td>\n",
       "      <td>1753</td>\n",
       "      <td>1755</td>\n",
       "      <td>1925</td>\n",
       "      <td>1933</td>\n",
       "      <td>US</td>\n",
       "      <td>300</td>\n",
       "      <td>...</td>\n",
       "      <td>16</td>\n",
       "      <td>10</td>\n",
       "      <td>0</td>\n",
       "      <td>0</td>\n",
       "      <td>0</td>\n",
       "      <td>0</td>\n",
       "      <td>0</td>\n",
       "      <td>0</td>\n",
       "      <td>0</td>\n",
       "      <td>-10</td>\n",
       "    </tr>\n",
       "    <tr>\n",
       "      <th>4</th>\n",
       "      <td>2006</td>\n",
       "      <td>1</td>\n",
       "      <td>11</td>\n",
       "      <td>3</td>\n",
       "      <td>824</td>\n",
       "      <td>832</td>\n",
       "      <td>1015</td>\n",
       "      <td>1015</td>\n",
       "      <td>US</td>\n",
       "      <td>765</td>\n",
       "      <td>...</td>\n",
       "      <td>27</td>\n",
       "      <td>12</td>\n",
       "      <td>0</td>\n",
       "      <td>0</td>\n",
       "      <td>0</td>\n",
       "      <td>0</td>\n",
       "      <td>0</td>\n",
       "      <td>0</td>\n",
       "      <td>0</td>\n",
       "      <td>-8</td>\n",
       "    </tr>\n",
       "    <tr>\n",
       "      <th>...</th>\n",
       "      <td>...</td>\n",
       "      <td>...</td>\n",
       "      <td>...</td>\n",
       "      <td>...</td>\n",
       "      <td>...</td>\n",
       "      <td>...</td>\n",
       "      <td>...</td>\n",
       "      <td>...</td>\n",
       "      <td>...</td>\n",
       "      <td>...</td>\n",
       "      <td>...</td>\n",
       "      <td>...</td>\n",
       "      <td>...</td>\n",
       "      <td>...</td>\n",
       "      <td>...</td>\n",
       "      <td>...</td>\n",
       "      <td>...</td>\n",
       "      <td>...</td>\n",
       "      <td>...</td>\n",
       "      <td>...</td>\n",
       "      <td>...</td>\n",
       "    </tr>\n",
       "    <tr>\n",
       "      <th>14268923</th>\n",
       "      <td>2007</td>\n",
       "      <td>12</td>\n",
       "      <td>15</td>\n",
       "      <td>6</td>\n",
       "      <td>1558</td>\n",
       "      <td>1605</td>\n",
       "      <td>1749</td>\n",
       "      <td>1736</td>\n",
       "      <td>DL</td>\n",
       "      <td>58</td>\n",
       "      <td>...</td>\n",
       "      <td>14</td>\n",
       "      <td>17</td>\n",
       "      <td>0</td>\n",
       "      <td>0</td>\n",
       "      <td>0</td>\n",
       "      <td>0</td>\n",
       "      <td>0</td>\n",
       "      <td>0</td>\n",
       "      <td>0</td>\n",
       "      <td>6</td>\n",
       "    </tr>\n",
       "    <tr>\n",
       "      <th>14268924</th>\n",
       "      <td>2007</td>\n",
       "      <td>12</td>\n",
       "      <td>15</td>\n",
       "      <td>6</td>\n",
       "      <td>1902</td>\n",
       "      <td>1851</td>\n",
       "      <td>2110</td>\n",
       "      <td>2105</td>\n",
       "      <td>DL</td>\n",
       "      <td>59</td>\n",
       "      <td>...</td>\n",
       "      <td>6</td>\n",
       "      <td>21</td>\n",
       "      <td>0</td>\n",
       "      <td>0</td>\n",
       "      <td>0</td>\n",
       "      <td>0</td>\n",
       "      <td>0</td>\n",
       "      <td>0</td>\n",
       "      <td>0</td>\n",
       "      <td>16</td>\n",
       "    </tr>\n",
       "    <tr>\n",
       "      <th>14268925</th>\n",
       "      <td>2007</td>\n",
       "      <td>12</td>\n",
       "      <td>15</td>\n",
       "      <td>6</td>\n",
       "      <td>1024</td>\n",
       "      <td>1025</td>\n",
       "      <td>1750</td>\n",
       "      <td>1735</td>\n",
       "      <td>DL</td>\n",
       "      <td>61</td>\n",
       "      <td>...</td>\n",
       "      <td>14</td>\n",
       "      <td>19</td>\n",
       "      <td>0</td>\n",
       "      <td>0</td>\n",
       "      <td>0</td>\n",
       "      <td>0</td>\n",
       "      <td>15</td>\n",
       "      <td>0</td>\n",
       "      <td>0</td>\n",
       "      <td>14</td>\n",
       "    </tr>\n",
       "    <tr>\n",
       "      <th>14268926</th>\n",
       "      <td>2007</td>\n",
       "      <td>12</td>\n",
       "      <td>15</td>\n",
       "      <td>6</td>\n",
       "      <td>1353</td>\n",
       "      <td>1315</td>\n",
       "      <td>1658</td>\n",
       "      <td>1622</td>\n",
       "      <td>DL</td>\n",
       "      <td>62</td>\n",
       "      <td>...</td>\n",
       "      <td>11</td>\n",
       "      <td>14</td>\n",
       "      <td>0</td>\n",
       "      <td>0</td>\n",
       "      <td>0</td>\n",
       "      <td>0</td>\n",
       "      <td>0</td>\n",
       "      <td>0</td>\n",
       "      <td>36</td>\n",
       "      <td>74</td>\n",
       "    </tr>\n",
       "    <tr>\n",
       "      <th>14268927</th>\n",
       "      <td>2007</td>\n",
       "      <td>12</td>\n",
       "      <td>15</td>\n",
       "      <td>6</td>\n",
       "      <td>1824</td>\n",
       "      <td>1800</td>\n",
       "      <td>2001</td>\n",
       "      <td>1928</td>\n",
       "      <td>DL</td>\n",
       "      <td>63</td>\n",
       "      <td>...</td>\n",
       "      <td>10</td>\n",
       "      <td>26</td>\n",
       "      <td>0</td>\n",
       "      <td>0</td>\n",
       "      <td>24</td>\n",
       "      <td>0</td>\n",
       "      <td>9</td>\n",
       "      <td>0</td>\n",
       "      <td>0</td>\n",
       "      <td>57</td>\n",
       "    </tr>\n",
       "  </tbody>\n",
       "</table>\n",
       "<p>14268928 rows × 29 columns</p>\n",
       "</div>"
      ],
      "text/plain": [
       "          Year  Month  DayofMonth  DayOfWeek  DepTime  CRSDepTime  ArrTime  \\\n",
       "0         2006      1          11          3      743         745     1024   \n",
       "1         2006      1          11          3     1053        1053     1313   \n",
       "2         2006      1          11          3     1915        1915     2110   \n",
       "3         2006      1          11          3     1753        1755     1925   \n",
       "4         2006      1          11          3      824         832     1015   \n",
       "...        ...    ...         ...        ...      ...         ...      ...   \n",
       "14268923  2007     12          15          6     1558        1605     1749   \n",
       "14268924  2007     12          15          6     1902        1851     2110   \n",
       "14268925  2007     12          15          6     1024        1025     1750   \n",
       "14268926  2007     12          15          6     1353        1315     1658   \n",
       "14268927  2007     12          15          6     1824        1800     2001   \n",
       "\n",
       "          CRSArrTime UniqueCarrier  FlightNum  ... TaxiIn  TaxiOut  Cancelled  \\\n",
       "0               1018            US        343  ...     45       13          0   \n",
       "1               1318            US        613  ...     27       19          0   \n",
       "2               2133            US        617  ...      4       11          0   \n",
       "3               1933            US        300  ...     16       10          0   \n",
       "4               1015            US        765  ...     27       12          0   \n",
       "...              ...           ...        ...  ...    ...      ...        ...   \n",
       "14268923        1736            DL         58  ...     14       17          0   \n",
       "14268924        2105            DL         59  ...      6       21          0   \n",
       "14268925        1735            DL         61  ...     14       19          0   \n",
       "14268926        1622            DL         62  ...     11       14          0   \n",
       "14268927        1928            DL         63  ...     10       26          0   \n",
       "\n",
       "          Diverted  CarrierDelay  WeatherDelay NASDelay SecurityDelay  \\\n",
       "0                0             0             0        0             0   \n",
       "1                0             0             0        0             0   \n",
       "2                0             0             0        0             0   \n",
       "3                0             0             0        0             0   \n",
       "4                0             0             0        0             0   \n",
       "...            ...           ...           ...      ...           ...   \n",
       "14268923         0             0             0        0             0   \n",
       "14268924         0             0             0        0             0   \n",
       "14268925         0             0             0       15             0   \n",
       "14268926         0             0             0        0             0   \n",
       "14268927         0            24             0        9             0   \n",
       "\n",
       "          LateAircraftDelay  Total_Delay  \n",
       "0                         0            4  \n",
       "1                         0           -5  \n",
       "2                         0          -23  \n",
       "3                         0          -10  \n",
       "4                         0           -8  \n",
       "...                     ...          ...  \n",
       "14268923                  0            6  \n",
       "14268924                  0           16  \n",
       "14268925                  0           14  \n",
       "14268926                 36           74  \n",
       "14268927                  0           57  \n",
       "\n",
       "[14268928 rows x 29 columns]"
      ]
     },
     "execution_count": 2,
     "metadata": {},
     "output_type": "execute_result"
    }
   ],
   "source": [
    "cleaned_dataset = pd.read_csv(\"C:/Users/94772/OneDrive/Documents/PROG CW - final/cleaned_dataset.csv\")\n",
    "cleaned_dataset"
   ]
  },
  {
   "cell_type": "code",
   "execution_count": 3,
   "id": "e041b925",
   "metadata": {},
   "outputs": [
    {
     "name": "stdout",
     "output_type": "stream",
     "text": [
      "<class 'pandas.core.frame.DataFrame'>\n",
      "RangeIndex: 14268928 entries, 0 to 14268927\n",
      "Data columns (total 29 columns):\n",
      " #   Column             Dtype \n",
      "---  ------             ----- \n",
      " 0   Year               int64 \n",
      " 1   Month              int64 \n",
      " 2   DayofMonth         int64 \n",
      " 3   DayOfWeek          int64 \n",
      " 4   DepTime            int64 \n",
      " 5   CRSDepTime         int64 \n",
      " 6   ArrTime            int64 \n",
      " 7   CRSArrTime         int64 \n",
      " 8   UniqueCarrier      object\n",
      " 9   FlightNum          int64 \n",
      " 10  TailNum            object\n",
      " 11  ActualElapsedTime  int64 \n",
      " 12  CRSElapsedTime     int64 \n",
      " 13  AirTime            int64 \n",
      " 14  ArrDelay           int64 \n",
      " 15  DepDelay           int64 \n",
      " 16  Origin             object\n",
      " 17  Dest               object\n",
      " 18  Distance           int64 \n",
      " 19  TaxiIn             int64 \n",
      " 20  TaxiOut            int64 \n",
      " 21  Cancelled          int64 \n",
      " 22  Diverted           int64 \n",
      " 23  CarrierDelay       int64 \n",
      " 24  WeatherDelay       int64 \n",
      " 25  NASDelay           int64 \n",
      " 26  SecurityDelay      int64 \n",
      " 27  LateAircraftDelay  int64 \n",
      " 28  Total_Delay        int64 \n",
      "dtypes: int64(25), object(4)\n",
      "memory usage: 3.1+ GB\n"
     ]
    }
   ],
   "source": [
    "cleaned_dataset.info()"
   ]
  },
  {
   "cell_type": "code",
   "execution_count": 4,
   "id": "09a77fe6",
   "metadata": {},
   "outputs": [
    {
     "name": "stdout",
     "output_type": "stream",
     "text": [
      "Unique values count in column 'UniqueCarrier':\n",
      "21\n",
      "\n",
      "Unique values count in column 'TailNum':\n",
      "5811\n",
      "\n",
      "Unique values count in column 'Origin':\n",
      "308\n",
      "\n",
      "Unique values count in column 'Dest':\n",
      "307\n",
      "\n"
     ]
    }
   ],
   "source": [
    "for col in cleaned_dataset.select_dtypes(include='object'):\n",
    "    print(f\"Unique values count in column '{col}':\")\n",
    "    print(len(cleaned_dataset[col].unique()))\n",
    "    print()"
   ]
  },
  {
   "cell_type": "code",
   "execution_count": 5,
   "id": "2dc7ad87",
   "metadata": {},
   "outputs": [
    {
     "name": "stdout",
     "output_type": "stream",
     "text": [
      "Unique values count in column 'Year':\n",
      "2\n",
      "\n",
      "Unique values count in column 'Month':\n",
      "12\n",
      "\n",
      "Unique values count in column 'DayofMonth':\n",
      "31\n",
      "\n",
      "Unique values count in column 'DayOfWeek':\n",
      "7\n",
      "\n",
      "Unique values count in column 'DepTime':\n",
      "1439\n",
      "\n",
      "Unique values count in column 'CRSDepTime':\n",
      "1214\n",
      "\n",
      "Unique values count in column 'ArrTime':\n",
      "1439\n",
      "\n",
      "Unique values count in column 'CRSArrTime':\n",
      "1419\n",
      "\n",
      "Unique values count in column 'FlightNum':\n",
      "7671\n",
      "\n",
      "Unique values count in column 'ActualElapsedTime':\n",
      "771\n",
      "\n",
      "Unique values count in column 'CRSElapsedTime':\n",
      "572\n",
      "\n",
      "Unique values count in column 'AirTime':\n",
      "741\n",
      "\n",
      "Unique values count in column 'ArrDelay':\n",
      "1354\n",
      "\n",
      "Unique values count in column 'DepDelay':\n",
      "1391\n",
      "\n",
      "Unique values count in column 'Distance':\n",
      "1439\n",
      "\n",
      "Unique values count in column 'TaxiIn':\n",
      "242\n",
      "\n",
      "Unique values count in column 'TaxiOut':\n",
      "350\n",
      "\n",
      "Unique values count in column 'Cancelled':\n",
      "1\n",
      "\n",
      "Unique values count in column 'Diverted':\n",
      "1\n",
      "\n",
      "Unique values count in column 'CarrierDelay':\n",
      "1158\n",
      "\n",
      "Unique values count in column 'WeatherDelay':\n",
      "695\n",
      "\n",
      "Unique values count in column 'NASDelay':\n",
      "630\n",
      "\n",
      "Unique values count in column 'SecurityDelay':\n",
      "228\n",
      "\n",
      "Unique values count in column 'LateAircraftDelay':\n",
      "645\n",
      "\n",
      "Unique values count in column 'Total_Delay':\n",
      "2414\n",
      "\n"
     ]
    }
   ],
   "source": [
    "for col in cleaned_dataset.select_dtypes(include='int64'):\n",
    "    print(f\"Unique values count in column '{col}':\")\n",
    "    print(len(cleaned_dataset[col].unique()))\n",
    "    print()"
   ]
  },
  {
   "cell_type": "markdown",
   "id": "6a907ef5",
   "metadata": {},
   "source": [
    "## Drop constant columns and un important columns"
   ]
  },
  {
   "cell_type": "code",
   "execution_count": 6,
   "id": "d1c7a48a",
   "metadata": {},
   "outputs": [],
   "source": [
    "q5 = cleaned_dataset.drop(['Cancelled', 'Diverted','TailNum','Origin','Dest','UniqueCarrier','Total_Delay','Year','DayofMonth','Distance','FlightNum'], axis=1)"
   ]
  },
  {
   "cell_type": "markdown",
   "id": "db8d5818",
   "metadata": {},
   "source": [
    "## Drop any rows with missing values"
   ]
  },
  {
   "cell_type": "code",
   "execution_count": 7,
   "id": "012a1108",
   "metadata": {},
   "outputs": [],
   "source": [
    "q5.dropna(inplace=True)"
   ]
  },
  {
   "cell_type": "code",
   "execution_count": 8,
   "id": "3aefd287",
   "metadata": {},
   "outputs": [
    {
     "name": "stdout",
     "output_type": "stream",
     "text": [
      "['ActualElapsedTime', 'CRSElapsedTime', 'ActualElapsedTime', 'DepTime', 'ArrDelay', 'ArrTime']\n"
     ]
    }
   ],
   "source": [
    "# calculate correlation matrix\n",
    "corr_matrix = q5.corr().abs()\n",
    "\n",
    "# create a mask for the highly correlated features\n",
    "mask = np.triu(np.ones_like(corr_matrix, dtype=bool))\n",
    "high_corr = corr_matrix.mask(mask).stack().sort_values(ascending=False)\n",
    "\n",
    "# set threshold for correlation coefficient\n",
    "threshold = 0.8\n",
    "\n",
    "# remove the highly correlated features\n",
    "to_drop = []\n",
    "for (idx1, idx2), corr in high_corr.items():\n",
    "    if corr > threshold:\n",
    "        if idx1 not in to_drop:\n",
    "            to_drop.append(idx2)\n",
    "#df = q5.drop(to_drop, axis=1)\n",
    "\n",
    "print(to_drop)"
   ]
  },
  {
   "cell_type": "code",
   "execution_count": 9,
   "id": "24b75fe2",
   "metadata": {},
   "outputs": [],
   "source": [
    "q5 = q5.drop(['ActualElapsedTime', 'CRSElapsedTime', 'CRSElapsedTime', 'ActualElapsedTime', 'AirTime', 'DepTime', 'ArrTime'], axis=1)"
   ]
  },
  {
   "cell_type": "markdown",
   "id": "c14dc394",
   "metadata": {},
   "source": [
    "## Visualize the correlation matrix"
   ]
  },
  {
   "cell_type": "code",
   "execution_count": 10,
   "id": "ceb161b0",
   "metadata": {},
   "outputs": [
    {
     "data": {
      "image/png": "[encoded data removed]",
      "text/plain": [
       "<Figure size 1080x720 with 2 Axes>"
      ]
     },
     "metadata": {
      "needs_background": "light"
     },
     "output_type": "display_data"
    }
   ],
   "source": [
    "corr = q5.corr()\n",
    "plt.figure(figsize=(15,10))\n",
    "sns.heatmap(corr, cmap=\"GnBu\",annot=True)\n",
    "plt.show()"
   ]
  },
  {
   "cell_type": "markdown",
   "id": "09a45c60",
   "metadata": {},
   "source": [
    "## create the target variable"
   ]
  },
  {
   "cell_type": "code",
   "execution_count": 11,
   "id": "f40de6fc",
   "metadata": {},
   "outputs": [],
   "source": [
    "q5[\"ArrDelay\"] = np.where(q5[\"ArrDelay\"] > 0, 1, 0)"
   ]
  },
  {
   "cell_type": "markdown",
   "id": "8c90fba9",
   "metadata": {},
   "source": [
    "## subset q5 for target_y and target_x"
   ]
  },
  {
   "cell_type": "code",
   "execution_count": 12,
   "id": "dcfae04f",
   "metadata": {},
   "outputs": [],
   "source": [
    "target_y=q5[\"ArrDelay\"] \n",
    "target_x=q5[[\"Month\", \"DayOfWeek\", \"CRSDepTime\", \"CRSArrTime\",\"DepDelay\", \"CarrierDelay\",\"WeatherDelay\",\"NASDelay\",\"LateAircraftDelay\", \"TaxiOut\"]]"
   ]
  },
  {
   "cell_type": "markdown",
   "id": "cac7ce51",
   "metadata": {},
   "source": [
    "## Split the data into training and testing sets"
   ]
  },
  {
   "cell_type": "code",
   "execution_count": 13,
   "id": "b2e05e43",
   "metadata": {},
   "outputs": [],
   "source": [
    "X_train, X_test, y_train, y_test = train_test_split(target_x, target_y, test_size=0.2, random_state=0)"
   ]
  },
  {
   "cell_type": "markdown",
   "id": "8a934bb1",
   "metadata": {},
   "source": [
    "## Scale the data using StandardScaler"
   ]
  },
  {
   "cell_type": "code",
   "execution_count": 14,
   "id": "00e4c91e",
   "metadata": {},
   "outputs": [],
   "source": [
    "sc = StandardScaler()\n",
    "X_train = sc.fit_transform(X_train)\n",
    "X_test = sc.transform(X_test)"
   ]
  },
  {
   "cell_type": "markdown",
   "id": "0b242605",
   "metadata": {},
   "source": [
    "## Print the classification report"
   ]
  },
  {
   "cell_type": "code",
   "execution_count": 15,
   "id": "d4d56d51",
   "metadata": {},
   "outputs": [],
   "source": [
    "def train_models(X_train, X_test, y_train, y_test):\n",
    "    models = [LogisticRegression()]\n",
    "\n",
    "    for model in models:\n",
    "        model.fit(X_train, y_train)\n",
    "        y_pred = model.predict(X_test)\n",
    "        cm = confusion_matrix(y_test, y_pred)\n",
    "        print(f\"Model: {type(model).__name__}\\n\")\n",
    "        print(\"Confusion Matrix:\\n\", cm)\n",
    "        print(\"\\nClassification Report:\\n\", classification_report(y_test, y_pred))"
   ]
  },
  {
   "cell_type": "code",
   "execution_count": 16,
   "id": "8db45389",
   "metadata": {},
   "outputs": [
    {
     "name": "stdout",
     "output_type": "stream",
     "text": [
      "Model: LogisticRegression\n",
      "\n",
      "Confusion Matrix:\n",
      " [[1412060  114413]\n",
      " [ 361490  965823]]\n",
      "\n",
      "Classification Report:\n",
      "               precision    recall  f1-score   support\n",
      "\n",
      "           0       0.80      0.93      0.86   1526473\n",
      "           1       0.89      0.73      0.80   1327313\n",
      "\n",
      "    accuracy                           0.83   2853786\n",
      "   macro avg       0.85      0.83      0.83   2853786\n",
      "weighted avg       0.84      0.83      0.83   2853786\n",
      "\n"
     ]
    }
   ],
   "source": [
    "train_models(X_train, X_test, y_train, y_test)"
   ]
  },
  {
   "cell_type": "markdown",
   "id": "e2905b94",
   "metadata": {},
   "source": [
    "## Train Logistic Regression"
   ]
  },
  {
   "cell_type": "code",
   "execution_count": 17,
   "id": "d5f28cbb",
   "metadata": {},
   "outputs": [
    {
     "data": {
      "text/plain": [
       "LogisticRegression()"
      ]
     },
     "execution_count": 17,
     "metadata": {},
     "output_type": "execute_result"
    }
   ],
   "source": [
    "lr=LogisticRegression()\n",
    "lr.fit(X_train, y_train)"
   ]
  },
  {
   "cell_type": "markdown",
   "id": "e979e9ff",
   "metadata": {},
   "source": [
    "## Make predictions on the test set"
   ]
  },
  {
   "cell_type": "code",
   "execution_count": 18,
   "id": "493100f1",
   "metadata": {},
   "outputs": [],
   "source": [
    "y_pred_lr = lr.predict(X_test)"
   ]
  },
  {
   "cell_type": "markdown",
   "id": "b795ea90",
   "metadata": {},
   "source": [
    "## Plot a confusion matrix"
   ]
  },
  {
   "cell_type": "code",
   "execution_count": 19,
   "id": "386ad6c1",
   "metadata": {},
   "outputs": [
    {
     "data": {
      "text/plain": [
       "Text(0.5, 15.0, 'Predicted Values')"
      ]
     },
     "execution_count": 19,
     "metadata": {},
     "output_type": "execute_result"
    },
    {
     "data": {
      "image/png": "[encoded data removed]",
      "text/plain": [
       "<Figure size 432x288 with 2 Axes>"
      ]
     },
     "metadata": {
      "needs_background": "light"
     },
     "output_type": "display_data"
    }
   ],
   "source": [
    "cm_lr = confusion_matrix(y_test, y_pred_lr)\n",
    "plt.title(\"Confusion Matrix\")\n",
    "sns.heatmap(cm_lr, annot=True, fmt='d', cmap = 'GnBu')\n",
    "plt.ylabel(\"Actual Values\")\n",
    "plt.xlabel(\"Predicted Values\")"
   ]
  },
  {
   "cell_type": "markdown",
   "id": "3b39fb37",
   "metadata": {},
   "source": [
    "## Calculate and plot the ROC curve"
   ]
  },
  {
   "cell_type": "code",
   "execution_count": 20,
   "id": "82944a11",
   "metadata": {},
   "outputs": [
    {
     "data": {
      "image/png": "[encoded data removed]",
      "text/plain": [
       "<Figure size 432x288 with 1 Axes>"
      ]
     },
     "metadata": {
      "needs_background": "light"
     },
     "output_type": "display_data"
    }
   ],
   "source": [
    "y_prob = lr.predict_proba(X_test)[:, 1]\n",
    "fpr, tpr, thresholds = roc_curve(y_test, y_prob)\n",
    "roc_auc = roc_auc_score(y_test, y_prob)\n",
    "plt.plot(fpr, tpr, label=f'Logistic Regression (AUC = {roc_auc:.2f})')\n",
    "plt.xlabel('False Positive Rate')\n",
    "plt.ylabel('True Positive Rate')\n",
    "plt.title('ROC Curve')\n",
    "plt.legend(loc='lower right')\n",
    "plt.show()"
   ]
  },
  {
   "cell_type": "markdown",
   "id": "e2385d56",
   "metadata": {},
   "source": [
    "## Print the accuracy score"
   ]
  },
  {
   "cell_type": "code",
   "execution_count": 21,
   "id": "9d6f7bec",
   "metadata": {},
   "outputs": [
    {
     "data": {
      "text/plain": [
       "0.8332380213512857"
      ]
     },
     "execution_count": 21,
     "metadata": {},
     "output_type": "execute_result"
    }
   ],
   "source": [
    "accuracy_lr = accuracy_score(y_test, y_pred_lr)\n",
    "accuracy_lr"
   ]
  }
 ],
 "metadata": {
  "kernelspec": {
   "display_name": "Python 3 (ipykernel)",
   "language": "python",
   "name": "python3"
  },
  "language_info": {
   "codemirror_mode": {
    "name": "ipython",
    "version": 3
   },
   "file_extension": ".py",
   "mimetype": "text/x-python",
   "name": "python",
   "nbconvert_exporter": "python",
   "pygments_lexer": "ipython3",
   "version": "3.9.12"
  }
 },
 "nbformat": 4,
 "nbformat_minor": 5
}
