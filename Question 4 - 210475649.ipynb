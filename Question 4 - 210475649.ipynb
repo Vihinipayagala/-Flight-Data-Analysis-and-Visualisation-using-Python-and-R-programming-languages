{
 "cells": [
  {
   "cell_type": "markdown",
   "id": "dde647dc",
   "metadata": {},
   "source": [
    "# Can you detect cascading failures as delays in one airport create delays in others?"
   ]
  },
  {
   "cell_type": "code",
   "execution_count": 1,
   "id": "195e9b19",
   "metadata": {},
   "outputs": [],
   "source": [
    "import pandas as pd\n",
    "import numpy as np\n",
    "import matplotlib.pyplot as plt\n",
    "from scipy.stats import pearsonr\n",
    "import scipy.stats as stats"
   ]
  },
  {
   "cell_type": "markdown",
   "id": "de53efe4",
   "metadata": {},
   "source": [
    "## Importing the datasets required for Q4"
   ]
  },
  {
   "cell_type": "code",
   "execution_count": 2,
   "id": "bd511bf3",
   "metadata": {},
   "outputs": [],
   "source": [
    "cleaned_dataset = pd.read_csv(\"C:/Users/94772/OneDrive/Documents/PROG CW - final/cleaned_dataset.csv\")"
   ]
  },
  {
   "cell_type": "markdown",
   "id": "87cb58b1",
   "metadata": {},
   "source": [
    "## Filter out cancelled flights"
   ]
  },
  {
   "cell_type": "code",
   "execution_count": 3,
   "id": "23d1d1c9",
   "metadata": {},
   "outputs": [],
   "source": [
    "q4 = cleaned_dataset[cleaned_dataset.Cancelled == 0]"
   ]
  },
  {
   "cell_type": "code",
   "execution_count": 4,
   "id": "c1c0e443",
   "metadata": {},
   "outputs": [],
   "source": [
    "q4['Total_Delay'] = q4['Total_Delay'].fillna(0)"
   ]
  },
  {
   "cell_type": "markdown",
   "id": "f1f103ab",
   "metadata": {},
   "source": [
    "## Filter out flights with missing scheduled departure times and tail number"
   ]
  },
  {
   "cell_type": "code",
   "execution_count": 5,
   "id": "12cdac3b",
   "metadata": {},
   "outputs": [
    {
     "data": {
      "text/html": [
       "<div>\n",
       "<style scoped>\n",
       "    .dataframe tbody tr th:only-of-type {\n",
       "        vertical-align: middle;\n",
       "    }\n",
       "\n",
       "    .dataframe tbody tr th {\n",
       "        vertical-align: top;\n",
       "    }\n",
       "\n",
       "    .dataframe thead th {\n",
       "        text-align: right;\n",
       "    }\n",
       "</style>\n",
       "<table border=\"1\" class=\"dataframe\">\n",
       "  <thead>\n",
       "    <tr style=\"text-align: right;\">\n",
       "      <th></th>\n",
       "      <th>Year</th>\n",
       "      <th>Month</th>\n",
       "      <th>DayofMonth</th>\n",
       "      <th>DayOfWeek</th>\n",
       "      <th>DepTime</th>\n",
       "      <th>CRSDepTime</th>\n",
       "      <th>ArrTime</th>\n",
       "      <th>CRSArrTime</th>\n",
       "      <th>UniqueCarrier</th>\n",
       "      <th>FlightNum</th>\n",
       "      <th>...</th>\n",
       "      <th>TaxiIn</th>\n",
       "      <th>TaxiOut</th>\n",
       "      <th>Cancelled</th>\n",
       "      <th>Diverted</th>\n",
       "      <th>CarrierDelay</th>\n",
       "      <th>WeatherDelay</th>\n",
       "      <th>NASDelay</th>\n",
       "      <th>SecurityDelay</th>\n",
       "      <th>LateAircraftDelay</th>\n",
       "      <th>Total_Delay</th>\n",
       "    </tr>\n",
       "  </thead>\n",
       "  <tbody>\n",
       "    <tr>\n",
       "      <th>0</th>\n",
       "      <td>2006</td>\n",
       "      <td>1</td>\n",
       "      <td>11</td>\n",
       "      <td>3</td>\n",
       "      <td>743</td>\n",
       "      <td>745</td>\n",
       "      <td>1024</td>\n",
       "      <td>1018</td>\n",
       "      <td>US</td>\n",
       "      <td>343</td>\n",
       "      <td>...</td>\n",
       "      <td>45</td>\n",
       "      <td>13</td>\n",
       "      <td>0</td>\n",
       "      <td>0</td>\n",
       "      <td>0</td>\n",
       "      <td>0</td>\n",
       "      <td>0</td>\n",
       "      <td>0</td>\n",
       "      <td>0</td>\n",
       "      <td>4</td>\n",
       "    </tr>\n",
       "    <tr>\n",
       "      <th>1</th>\n",
       "      <td>2006</td>\n",
       "      <td>1</td>\n",
       "      <td>11</td>\n",
       "      <td>3</td>\n",
       "      <td>1053</td>\n",
       "      <td>1053</td>\n",
       "      <td>1313</td>\n",
       "      <td>1318</td>\n",
       "      <td>US</td>\n",
       "      <td>613</td>\n",
       "      <td>...</td>\n",
       "      <td>27</td>\n",
       "      <td>19</td>\n",
       "      <td>0</td>\n",
       "      <td>0</td>\n",
       "      <td>0</td>\n",
       "      <td>0</td>\n",
       "      <td>0</td>\n",
       "      <td>0</td>\n",
       "      <td>0</td>\n",
       "      <td>-5</td>\n",
       "    </tr>\n",
       "    <tr>\n",
       "      <th>2</th>\n",
       "      <td>2006</td>\n",
       "      <td>1</td>\n",
       "      <td>11</td>\n",
       "      <td>3</td>\n",
       "      <td>1915</td>\n",
       "      <td>1915</td>\n",
       "      <td>2110</td>\n",
       "      <td>2133</td>\n",
       "      <td>US</td>\n",
       "      <td>617</td>\n",
       "      <td>...</td>\n",
       "      <td>4</td>\n",
       "      <td>11</td>\n",
       "      <td>0</td>\n",
       "      <td>0</td>\n",
       "      <td>0</td>\n",
       "      <td>0</td>\n",
       "      <td>0</td>\n",
       "      <td>0</td>\n",
       "      <td>0</td>\n",
       "      <td>-23</td>\n",
       "    </tr>\n",
       "    <tr>\n",
       "      <th>3</th>\n",
       "      <td>2006</td>\n",
       "      <td>1</td>\n",
       "      <td>11</td>\n",
       "      <td>3</td>\n",
       "      <td>1753</td>\n",
       "      <td>1755</td>\n",
       "      <td>1925</td>\n",
       "      <td>1933</td>\n",
       "      <td>US</td>\n",
       "      <td>300</td>\n",
       "      <td>...</td>\n",
       "      <td>16</td>\n",
       "      <td>10</td>\n",
       "      <td>0</td>\n",
       "      <td>0</td>\n",
       "      <td>0</td>\n",
       "      <td>0</td>\n",
       "      <td>0</td>\n",
       "      <td>0</td>\n",
       "      <td>0</td>\n",
       "      <td>-10</td>\n",
       "    </tr>\n",
       "    <tr>\n",
       "      <th>4</th>\n",
       "      <td>2006</td>\n",
       "      <td>1</td>\n",
       "      <td>11</td>\n",
       "      <td>3</td>\n",
       "      <td>824</td>\n",
       "      <td>832</td>\n",
       "      <td>1015</td>\n",
       "      <td>1015</td>\n",
       "      <td>US</td>\n",
       "      <td>765</td>\n",
       "      <td>...</td>\n",
       "      <td>27</td>\n",
       "      <td>12</td>\n",
       "      <td>0</td>\n",
       "      <td>0</td>\n",
       "      <td>0</td>\n",
       "      <td>0</td>\n",
       "      <td>0</td>\n",
       "      <td>0</td>\n",
       "      <td>0</td>\n",
       "      <td>-8</td>\n",
       "    </tr>\n",
       "    <tr>\n",
       "      <th>...</th>\n",
       "      <td>...</td>\n",
       "      <td>...</td>\n",
       "      <td>...</td>\n",
       "      <td>...</td>\n",
       "      <td>...</td>\n",
       "      <td>...</td>\n",
       "      <td>...</td>\n",
       "      <td>...</td>\n",
       "      <td>...</td>\n",
       "      <td>...</td>\n",
       "      <td>...</td>\n",
       "      <td>...</td>\n",
       "      <td>...</td>\n",
       "      <td>...</td>\n",
       "      <td>...</td>\n",
       "      <td>...</td>\n",
       "      <td>...</td>\n",
       "      <td>...</td>\n",
       "      <td>...</td>\n",
       "      <td>...</td>\n",
       "      <td>...</td>\n",
       "    </tr>\n",
       "    <tr>\n",
       "      <th>14268923</th>\n",
       "      <td>2007</td>\n",
       "      <td>12</td>\n",
       "      <td>15</td>\n",
       "      <td>6</td>\n",
       "      <td>1558</td>\n",
       "      <td>1605</td>\n",
       "      <td>1749</td>\n",
       "      <td>1736</td>\n",
       "      <td>DL</td>\n",
       "      <td>58</td>\n",
       "      <td>...</td>\n",
       "      <td>14</td>\n",
       "      <td>17</td>\n",
       "      <td>0</td>\n",
       "      <td>0</td>\n",
       "      <td>0</td>\n",
       "      <td>0</td>\n",
       "      <td>0</td>\n",
       "      <td>0</td>\n",
       "      <td>0</td>\n",
       "      <td>6</td>\n",
       "    </tr>\n",
       "    <tr>\n",
       "      <th>14268924</th>\n",
       "      <td>2007</td>\n",
       "      <td>12</td>\n",
       "      <td>15</td>\n",
       "      <td>6</td>\n",
       "      <td>1902</td>\n",
       "      <td>1851</td>\n",
       "      <td>2110</td>\n",
       "      <td>2105</td>\n",
       "      <td>DL</td>\n",
       "      <td>59</td>\n",
       "      <td>...</td>\n",
       "      <td>6</td>\n",
       "      <td>21</td>\n",
       "      <td>0</td>\n",
       "      <td>0</td>\n",
       "      <td>0</td>\n",
       "      <td>0</td>\n",
       "      <td>0</td>\n",
       "      <td>0</td>\n",
       "      <td>0</td>\n",
       "      <td>16</td>\n",
       "    </tr>\n",
       "    <tr>\n",
       "      <th>14268925</th>\n",
       "      <td>2007</td>\n",
       "      <td>12</td>\n",
       "      <td>15</td>\n",
       "      <td>6</td>\n",
       "      <td>1024</td>\n",
       "      <td>1025</td>\n",
       "      <td>1750</td>\n",
       "      <td>1735</td>\n",
       "      <td>DL</td>\n",
       "      <td>61</td>\n",
       "      <td>...</td>\n",
       "      <td>14</td>\n",
       "      <td>19</td>\n",
       "      <td>0</td>\n",
       "      <td>0</td>\n",
       "      <td>0</td>\n",
       "      <td>0</td>\n",
       "      <td>15</td>\n",
       "      <td>0</td>\n",
       "      <td>0</td>\n",
       "      <td>14</td>\n",
       "    </tr>\n",
       "    <tr>\n",
       "      <th>14268926</th>\n",
       "      <td>2007</td>\n",
       "      <td>12</td>\n",
       "      <td>15</td>\n",
       "      <td>6</td>\n",
       "      <td>1353</td>\n",
       "      <td>1315</td>\n",
       "      <td>1658</td>\n",
       "      <td>1622</td>\n",
       "      <td>DL</td>\n",
       "      <td>62</td>\n",
       "      <td>...</td>\n",
       "      <td>11</td>\n",
       "      <td>14</td>\n",
       "      <td>0</td>\n",
       "      <td>0</td>\n",
       "      <td>0</td>\n",
       "      <td>0</td>\n",
       "      <td>0</td>\n",
       "      <td>0</td>\n",
       "      <td>36</td>\n",
       "      <td>74</td>\n",
       "    </tr>\n",
       "    <tr>\n",
       "      <th>14268927</th>\n",
       "      <td>2007</td>\n",
       "      <td>12</td>\n",
       "      <td>15</td>\n",
       "      <td>6</td>\n",
       "      <td>1824</td>\n",
       "      <td>1800</td>\n",
       "      <td>2001</td>\n",
       "      <td>1928</td>\n",
       "      <td>DL</td>\n",
       "      <td>63</td>\n",
       "      <td>...</td>\n",
       "      <td>10</td>\n",
       "      <td>26</td>\n",
       "      <td>0</td>\n",
       "      <td>0</td>\n",
       "      <td>24</td>\n",
       "      <td>0</td>\n",
       "      <td>9</td>\n",
       "      <td>0</td>\n",
       "      <td>0</td>\n",
       "      <td>57</td>\n",
       "    </tr>\n",
       "  </tbody>\n",
       "</table>\n",
       "<p>14268928 rows × 29 columns</p>\n",
       "</div>"
      ],
      "text/plain": [
       "          Year  Month  DayofMonth  DayOfWeek  DepTime  CRSDepTime  ArrTime  \\\n",
       "0         2006      1          11          3      743         745     1024   \n",
       "1         2006      1          11          3     1053        1053     1313   \n",
       "2         2006      1          11          3     1915        1915     2110   \n",
       "3         2006      1          11          3     1753        1755     1925   \n",
       "4         2006      1          11          3      824         832     1015   \n",
       "...        ...    ...         ...        ...      ...         ...      ...   \n",
       "14268923  2007     12          15          6     1558        1605     1749   \n",
       "14268924  2007     12          15          6     1902        1851     2110   \n",
       "14268925  2007     12          15          6     1024        1025     1750   \n",
       "14268926  2007     12          15          6     1353        1315     1658   \n",
       "14268927  2007     12          15          6     1824        1800     2001   \n",
       "\n",
       "          CRSArrTime UniqueCarrier  FlightNum  ... TaxiIn  TaxiOut  Cancelled  \\\n",
       "0               1018            US        343  ...     45       13          0   \n",
       "1               1318            US        613  ...     27       19          0   \n",
       "2               2133            US        617  ...      4       11          0   \n",
       "3               1933            US        300  ...     16       10          0   \n",
       "4               1015            US        765  ...     27       12          0   \n",
       "...              ...           ...        ...  ...    ...      ...        ...   \n",
       "14268923        1736            DL         58  ...     14       17          0   \n",
       "14268924        2105            DL         59  ...      6       21          0   \n",
       "14268925        1735            DL         61  ...     14       19          0   \n",
       "14268926        1622            DL         62  ...     11       14          0   \n",
       "14268927        1928            DL         63  ...     10       26          0   \n",
       "\n",
       "          Diverted  CarrierDelay  WeatherDelay NASDelay SecurityDelay  \\\n",
       "0                0             0             0        0             0   \n",
       "1                0             0             0        0             0   \n",
       "2                0             0             0        0             0   \n",
       "3                0             0             0        0             0   \n",
       "4                0             0             0        0             0   \n",
       "...            ...           ...           ...      ...           ...   \n",
       "14268923         0             0             0        0             0   \n",
       "14268924         0             0             0        0             0   \n",
       "14268925         0             0             0       15             0   \n",
       "14268926         0             0             0        0             0   \n",
       "14268927         0            24             0        9             0   \n",
       "\n",
       "          LateAircraftDelay  Total_Delay  \n",
       "0                         0            4  \n",
       "1                         0           -5  \n",
       "2                         0          -23  \n",
       "3                         0          -10  \n",
       "4                         0           -8  \n",
       "...                     ...          ...  \n",
       "14268923                  0            6  \n",
       "14268924                  0           16  \n",
       "14268925                  0           14  \n",
       "14268926                 36           74  \n",
       "14268927                  0           57  \n",
       "\n",
       "[14268928 rows x 29 columns]"
      ]
     },
     "execution_count": 5,
     "metadata": {},
     "output_type": "execute_result"
    }
   ],
   "source": [
    "q4 = q4.dropna(subset=['TailNum', 'CRSDepTime'])\n",
    "q4"
   ]
  },
  {
   "cell_type": "markdown",
   "id": "014eedb1",
   "metadata": {},
   "source": [
    "## Sort the dataframe by tail number and scheduled departure time"
   ]
  },
  {
   "cell_type": "code",
   "execution_count": 7,
   "id": "4bdfaee4",
   "metadata": {},
   "outputs": [],
   "source": [
    "q4 = q4.sort_values(['TailNum', 'CRSDepTime'])"
   ]
  },
  {
   "cell_type": "markdown",
   "id": "194487a7",
   "metadata": {},
   "source": [
    "## Find the previous airport delay for each plane"
   ]
  },
  {
   "cell_type": "code",
   "execution_count": 8,
   "id": "a8c2c2a7",
   "metadata": {},
   "outputs": [
    {
     "data": {
      "text/plain": [
       "2681170      NaN\n",
       "3289603    -12.0\n",
       "10529320    -8.0\n",
       "149224       2.0\n",
       "144791       0.0\n",
       "            ... \n",
       "14192060    48.0\n",
       "14192061    -1.0\n",
       "14191895    29.0\n",
       "14192065   -85.0\n",
       "14191891    59.0\n",
       "Name: PrevAirportDelay, Length: 14268928, dtype: float64"
      ]
     },
     "execution_count": 8,
     "metadata": {},
     "output_type": "execute_result"
    }
   ],
   "source": [
    "q4['PrevAirportDelay'] = q4.groupby('TailNum')['Total_Delay'].shift(1)\n",
    "q4['PrevAirportDelay']"
   ]
  },
  {
   "cell_type": "markdown",
   "id": "47a0136a",
   "metadata": {},
   "source": [
    "## Drop flights without a previous airport delay"
   ]
  },
  {
   "cell_type": "code",
   "execution_count": 9,
   "id": "6a94a9f9",
   "metadata": {},
   "outputs": [],
   "source": [
    "q4 = q4.dropna(subset=['PrevAirportDelay'])S"
   ]
  },
  {
   "cell_type": "markdown",
   "id": "81695b9a",
   "metadata": {},
   "source": [
    "## Create a scatter plot"
   ]
  },
  {
   "cell_type": "code",
   "execution_count": 10,
   "id": "1576065f",
   "metadata": {
    "scrolled": true
   },
   "outputs": [
    {
     "data": {
      "image/png": "[encoded data removed]",
      "text/plain": [
       "<Figure size 432x288 with 1 Axes>"
      ]
     },
     "metadata": {
      "needs_background": "light"
     },
     "output_type": "display_data"
    }
   ],
   "source": [
    "plt.scatter(q4['Total_Delay'], q4['PrevAirportDelay'], color =\"#9467bd\")\n",
    "plt.xlabel('Total Delay in Current Airport (minutes)')\n",
    "plt.ylabel('Delay in Previous Airport (minutes)')\n",
    "plt.title('Delays in Current and Previous Airports')\n",
    "plt.show()"
   ]
  },
  {
   "cell_type": "markdown",
   "id": "421df82d",
   "metadata": {},
   "source": [
    "## Calculate the correlation coefficient "
   ]
  },
  {
   "cell_type": "code",
   "execution_count": 11,
   "id": "71cbdfd0",
   "metadata": {},
   "outputs": [
    {
     "name": "stdout",
     "output_type": "stream",
     "text": [
      "Correlation Coefficient: 0.06381514979167713\n",
      "P-value: 0.0\n"
     ]
    }
   ],
   "source": [
    "corr, p_val = pearsonr(q4['Total_Delay'], q4['PrevAirportDelay'])\n",
    "\n",
    "print('Correlation Coefficient:', corr)\n",
    "print('P-value:', p_val)"
   ]
  },
  {
   "cell_type": "markdown",
   "id": "f0ec5b82",
   "metadata": {},
   "source": [
    "## Check if the correlation is statistically significant"
   ]
  },
  {
   "cell_type": "code",
   "execution_count": 12,
   "id": "93fecef0",
   "metadata": {},
   "outputs": [
    {
     "name": "stdout",
     "output_type": "stream",
     "text": [
      "The correlation coefficient is statistically significant.\n"
     ]
    }
   ],
   "source": [
    "if p_val < 0.05:\n",
    "    print('The correlation coefficient is statistically significant.')\n",
    "else:\n",
    "    print('The correlation coefficient is not statistically significant.')\n"
   ]
  },
  {
   "cell_type": "markdown",
   "id": "eb81e7f2",
   "metadata": {},
   "source": [
    "## Defining the hypothesis"
   ]
  },
  {
   "cell_type": "code",
   "execution_count": 13,
   "id": "386b8b0f",
   "metadata": {},
   "outputs": [
    {
     "name": "stdout",
     "output_type": "stream",
     "text": [
      "Defining the hypothesis\n",
      "H0: There is no correlation between the delays in the current and previous airports\n",
      "H1: There is a correlation between the delays in the current and previous airports.\n"
     ]
    }
   ],
   "source": [
    "print(\"Defining the hypothesis\")\n",
    "\n",
    "print(\"H0: There is no correlation between the delays in the current and previous airports\") \n",
    "print(\"H1: There is a correlation between the delays in the current and previous airports.\")"
   ]
  },
  {
   "cell_type": "markdown",
   "id": "b98cd78a",
   "metadata": {},
   "source": [
    "## Perform the hypothesis test"
   ]
  },
  {
   "cell_type": "code",
   "execution_count": 14,
   "id": "b0541a6e",
   "metadata": {},
   "outputs": [
    {
     "name": "stdout",
     "output_type": "stream",
     "text": [
      "Reject the null hypothesis - There is a significant correlation between the delays in the current and previous airports.\n"
     ]
    }
   ],
   "source": [
    "#Set the significance level\n",
    "alpha = 0.05\n",
    "\n",
    "##Calculate the degrees of freedom\n",
    "n = len(q4)\n",
    "df = n - 2\n",
    "\n",
    "#Calculate the t-statistic\n",
    "t = corr * np.sqrt(df) / np.sqrt(1 - corr**2)\n",
    "\n",
    "##Calculate the critical value\n",
    "critical_value = stats.t.ppf(alpha/2, df)\n",
    "\n",
    "\n",
    "#Check if the t-statistic is greater than the critical value\n",
    "if np.abs(t) > critical_value:\n",
    "    print(\"Reject the null hypothesis - There is a significant correlation between the delays in the current and previous airports.\")\n",
    "else:\n",
    "    print(\"Fail to reject the null hypothesis - There is no significant correlation between the delays in the current and previous airports.\")"
   ]
  },
  {
   "cell_type": "code",
   "execution_count": null,
   "id": "8d12fa91",
   "metadata": {},
   "outputs": [],
   "source": []
  }
 ],
 "metadata": {
  "kernelspec": {
   "display_name": "Python 3 (ipykernel)",
   "language": "python",
   "name": "python3"
  },
  "language_info": {
   "codemirror_mode": {
    "name": "ipython",
    "version": 3
   },
   "file_extension": ".py",
   "mimetype": "text/x-python",
   "name": "python",
   "nbconvert_exporter": "python",
   "pygments_lexer": "ipython3",
   "version": "3.9.12"
  }
 },
 "nbformat": 4,
 "nbformat_minor": 5
}
