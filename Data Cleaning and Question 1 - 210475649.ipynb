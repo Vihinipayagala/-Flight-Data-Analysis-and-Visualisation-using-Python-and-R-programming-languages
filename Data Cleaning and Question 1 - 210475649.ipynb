{
 "cells": [
  {
   "cell_type": "markdown",
   "id": "35a9803a",
   "metadata": {},
   "source": [
    "# Initial Data Cleaning "
   ]
  },
  {
   "cell_type": "code",
   "execution_count": 1,
   "id": "f2483152",
   "metadata": {},
   "outputs": [],
   "source": [
    "import numpy as numPy\n",
    "import pandas as pd\n",
    "import seaborn as sns"
   ]
  },
  {
   "cell_type": "markdown",
   "id": "0700530e",
   "metadata": {},
   "source": [
    "## Loading the data"
   ]
  },
  {
   "cell_type": "code",
   "execution_count": 2,
   "id": "a60fe222",
   "metadata": {},
   "outputs": [],
   "source": [
    "dataset_2006 = pd.read_csv(\"C:/Users/94772/OneDrive/Documents/Programming for Data Science coursework/datasets/2006.csv.bz2\")\n",
    "dataset_2007 = pd.read_csv(\"C:/Users/94772/OneDrive/Documents/Programming for Data Science coursework/datasets/2007.csv.bz2\")"
   ]
  },
  {
   "cell_type": "markdown",
   "id": "c98e3e1f",
   "metadata": {},
   "source": [
    "## Merging the two years of data sets into a complete set"
   ]
  },
  {
   "cell_type": "code",
   "execution_count": 3,
   "id": "bc0b0cce",
   "metadata": {},
   "outputs": [
    {
     "data": {
      "text/html": [
       "<div>\n",
       "<style scoped>\n",
       "    .dataframe tbody tr th:only-of-type {\n",
       "        vertical-align: middle;\n",
       "    }\n",
       "\n",
       "    .dataframe tbody tr th {\n",
       "        vertical-align: top;\n",
       "    }\n",
       "\n",
       "    .dataframe thead th {\n",
       "        text-align: right;\n",
       "    }\n",
       "</style>\n",
       "<table border=\"1\" class=\"dataframe\">\n",
       "  <thead>\n",
       "    <tr style=\"text-align: right;\">\n",
       "      <th></th>\n",
       "      <th>Year</th>\n",
       "      <th>Month</th>\n",
       "      <th>DayofMonth</th>\n",
       "      <th>DayOfWeek</th>\n",
       "      <th>DepTime</th>\n",
       "      <th>CRSDepTime</th>\n",
       "      <th>ArrTime</th>\n",
       "      <th>CRSArrTime</th>\n",
       "      <th>UniqueCarrier</th>\n",
       "      <th>FlightNum</th>\n",
       "      <th>...</th>\n",
       "      <th>TaxiIn</th>\n",
       "      <th>TaxiOut</th>\n",
       "      <th>Cancelled</th>\n",
       "      <th>CancellationCode</th>\n",
       "      <th>Diverted</th>\n",
       "      <th>CarrierDelay</th>\n",
       "      <th>WeatherDelay</th>\n",
       "      <th>NASDelay</th>\n",
       "      <th>SecurityDelay</th>\n",
       "      <th>LateAircraftDelay</th>\n",
       "    </tr>\n",
       "  </thead>\n",
       "  <tbody>\n",
       "    <tr>\n",
       "      <th>0</th>\n",
       "      <td>2006</td>\n",
       "      <td>1</td>\n",
       "      <td>11</td>\n",
       "      <td>3</td>\n",
       "      <td>743.0</td>\n",
       "      <td>745</td>\n",
       "      <td>1024.0</td>\n",
       "      <td>1018</td>\n",
       "      <td>US</td>\n",
       "      <td>343</td>\n",
       "      <td>...</td>\n",
       "      <td>45</td>\n",
       "      <td>13</td>\n",
       "      <td>0</td>\n",
       "      <td>NaN</td>\n",
       "      <td>0</td>\n",
       "      <td>0</td>\n",
       "      <td>0</td>\n",
       "      <td>0</td>\n",
       "      <td>0</td>\n",
       "      <td>0</td>\n",
       "    </tr>\n",
       "    <tr>\n",
       "      <th>1</th>\n",
       "      <td>2006</td>\n",
       "      <td>1</td>\n",
       "      <td>11</td>\n",
       "      <td>3</td>\n",
       "      <td>1053.0</td>\n",
       "      <td>1053</td>\n",
       "      <td>1313.0</td>\n",
       "      <td>1318</td>\n",
       "      <td>US</td>\n",
       "      <td>613</td>\n",
       "      <td>...</td>\n",
       "      <td>27</td>\n",
       "      <td>19</td>\n",
       "      <td>0</td>\n",
       "      <td>NaN</td>\n",
       "      <td>0</td>\n",
       "      <td>0</td>\n",
       "      <td>0</td>\n",
       "      <td>0</td>\n",
       "      <td>0</td>\n",
       "      <td>0</td>\n",
       "    </tr>\n",
       "    <tr>\n",
       "      <th>2</th>\n",
       "      <td>2006</td>\n",
       "      <td>1</td>\n",
       "      <td>11</td>\n",
       "      <td>3</td>\n",
       "      <td>1915.0</td>\n",
       "      <td>1915</td>\n",
       "      <td>2110.0</td>\n",
       "      <td>2133</td>\n",
       "      <td>US</td>\n",
       "      <td>617</td>\n",
       "      <td>...</td>\n",
       "      <td>4</td>\n",
       "      <td>11</td>\n",
       "      <td>0</td>\n",
       "      <td>NaN</td>\n",
       "      <td>0</td>\n",
       "      <td>0</td>\n",
       "      <td>0</td>\n",
       "      <td>0</td>\n",
       "      <td>0</td>\n",
       "      <td>0</td>\n",
       "    </tr>\n",
       "    <tr>\n",
       "      <th>3</th>\n",
       "      <td>2006</td>\n",
       "      <td>1</td>\n",
       "      <td>11</td>\n",
       "      <td>3</td>\n",
       "      <td>1753.0</td>\n",
       "      <td>1755</td>\n",
       "      <td>1925.0</td>\n",
       "      <td>1933</td>\n",
       "      <td>US</td>\n",
       "      <td>300</td>\n",
       "      <td>...</td>\n",
       "      <td>16</td>\n",
       "      <td>10</td>\n",
       "      <td>0</td>\n",
       "      <td>NaN</td>\n",
       "      <td>0</td>\n",
       "      <td>0</td>\n",
       "      <td>0</td>\n",
       "      <td>0</td>\n",
       "      <td>0</td>\n",
       "      <td>0</td>\n",
       "    </tr>\n",
       "    <tr>\n",
       "      <th>4</th>\n",
       "      <td>2006</td>\n",
       "      <td>1</td>\n",
       "      <td>11</td>\n",
       "      <td>3</td>\n",
       "      <td>824.0</td>\n",
       "      <td>832</td>\n",
       "      <td>1015.0</td>\n",
       "      <td>1015</td>\n",
       "      <td>US</td>\n",
       "      <td>765</td>\n",
       "      <td>...</td>\n",
       "      <td>27</td>\n",
       "      <td>12</td>\n",
       "      <td>0</td>\n",
       "      <td>NaN</td>\n",
       "      <td>0</td>\n",
       "      <td>0</td>\n",
       "      <td>0</td>\n",
       "      <td>0</td>\n",
       "      <td>0</td>\n",
       "      <td>0</td>\n",
       "    </tr>\n",
       "  </tbody>\n",
       "</table>\n",
       "<p>5 rows × 29 columns</p>\n",
       "</div>"
      ],
      "text/plain": [
       "   Year  Month  DayofMonth  DayOfWeek  DepTime  CRSDepTime  ArrTime  \\\n",
       "0  2006      1          11          3    743.0         745   1024.0   \n",
       "1  2006      1          11          3   1053.0        1053   1313.0   \n",
       "2  2006      1          11          3   1915.0        1915   2110.0   \n",
       "3  2006      1          11          3   1753.0        1755   1925.0   \n",
       "4  2006      1          11          3    824.0         832   1015.0   \n",
       "\n",
       "   CRSArrTime UniqueCarrier  FlightNum  ... TaxiIn  TaxiOut  Cancelled  \\\n",
       "0        1018            US        343  ...     45       13          0   \n",
       "1        1318            US        613  ...     27       19          0   \n",
       "2        2133            US        617  ...      4       11          0   \n",
       "3        1933            US        300  ...     16       10          0   \n",
       "4        1015            US        765  ...     27       12          0   \n",
       "\n",
       "   CancellationCode  Diverted  CarrierDelay WeatherDelay NASDelay  \\\n",
       "0               NaN         0             0            0        0   \n",
       "1               NaN         0             0            0        0   \n",
       "2               NaN         0             0            0        0   \n",
       "3               NaN         0             0            0        0   \n",
       "4               NaN         0             0            0        0   \n",
       "\n",
       "   SecurityDelay  LateAircraftDelay  \n",
       "0              0                  0  \n",
       "1              0                  0  \n",
       "2              0                  0  \n",
       "3              0                  0  \n",
       "4              0                  0  \n",
       "\n",
       "[5 rows x 29 columns]"
      ]
     },
     "execution_count": 3,
     "metadata": {},
     "output_type": "execute_result"
    }
   ],
   "source": [
    "dataset = pd.concat([dataset_2006,dataset_2007])\n",
    "dataset.head()"
   ]
  },
  {
   "cell_type": "markdown",
   "id": "056664e9",
   "metadata": {},
   "source": [
    "## checking for missing values"
   ]
  },
  {
   "cell_type": "code",
   "execution_count": 4,
   "id": "9b581416",
   "metadata": {},
   "outputs": [
    {
     "data": {
      "text/plain": [
       "Year                        0\n",
       "Month                       0\n",
       "DayofMonth                  0\n",
       "DayOfWeek                   0\n",
       "DepTime                282682\n",
       "CRSDepTime                  0\n",
       "ArrTime                316047\n",
       "CRSArrTime                  0\n",
       "UniqueCarrier               0\n",
       "FlightNum                   0\n",
       "TailNum                    22\n",
       "ActualElapsedTime      316047\n",
       "CRSElapsedTime            998\n",
       "AirTime                316047\n",
       "ArrDelay               316047\n",
       "DepDelay               282682\n",
       "Origin                      0\n",
       "Dest                        0\n",
       "Distance                    0\n",
       "TaxiIn                      0\n",
       "TaxiOut                     0\n",
       "Cancelled                   0\n",
       "CancellationCode     14312454\n",
       "Diverted                    0\n",
       "CarrierDelay                0\n",
       "WeatherDelay                0\n",
       "NASDelay                    0\n",
       "SecurityDelay               0\n",
       "LateAircraftDelay           0\n",
       "dtype: int64"
      ]
     },
     "execution_count": 4,
     "metadata": {},
     "output_type": "execute_result"
    }
   ],
   "source": [
    "pd.isnull(dataset).sum(axis=0)"
   ]
  },
  {
   "cell_type": "markdown",
   "id": "862f0d52",
   "metadata": {},
   "source": [
    "## Removing Duplicate Rows"
   ]
  },
  {
   "cell_type": "code",
   "execution_count": 5,
   "id": "2c31b373",
   "metadata": {},
   "outputs": [],
   "source": [
    "dataset.drop_duplicates(inplace=True)"
   ]
  },
  {
   "cell_type": "markdown",
   "id": "c48137bb",
   "metadata": {},
   "source": [
    "## Dropping the Cancellation Code column as majority of values are null"
   ]
  },
  {
   "cell_type": "code",
   "execution_count": 6,
   "id": "95d042fd",
   "metadata": {},
   "outputs": [],
   "source": [
    "dataset = dataset.drop(columns = \"CancellationCode\")"
   ]
  },
  {
   "cell_type": "markdown",
   "id": "138024f1",
   "metadata": {},
   "source": [
    "## Correcting the Departure and Arrival times appropriately"
   ]
  },
  {
   "cell_type": "code",
   "execution_count": 7,
   "id": "8fdd9aad",
   "metadata": {},
   "outputs": [],
   "source": [
    "dataset = dataset[(dataset[\"DepTime\"]<2400) & (dataset[\"ArrTime\"] <2400)]"
   ]
  },
  {
   "cell_type": "markdown",
   "id": "06147166",
   "metadata": {},
   "source": [
    "## Create a new column Total_Delay by adding ArrDelay and DepDelay\n"
   ]
  },
  {
   "cell_type": "code",
   "execution_count": 8,
   "id": "ea9b7fe9",
   "metadata": {},
   "outputs": [],
   "source": [
    "dataset['Total_Delay'] = dataset['ArrDelay'] + dataset['DepDelay']"
   ]
  },
  {
   "cell_type": "markdown",
   "id": "d93b3ab7",
   "metadata": {},
   "source": [
    "## Saving cleaned data set to be used for other tasks"
   ]
  },
  {
   "cell_type": "code",
   "execution_count": 9,
   "id": "1e0b0527",
   "metadata": {},
   "outputs": [],
   "source": [
    "dataset.to_csv('cleaned_dataset.csv', index=False)"
   ]
  },
  {
   "cell_type": "code",
   "execution_count": 10,
   "id": "bc425a38",
   "metadata": {},
   "outputs": [
    {
     "data": {
      "text/html": [
       "<div>\n",
       "<style scoped>\n",
       "    .dataframe tbody tr th:only-of-type {\n",
       "        vertical-align: middle;\n",
       "    }\n",
       "\n",
       "    .dataframe tbody tr th {\n",
       "        vertical-align: top;\n",
       "    }\n",
       "\n",
       "    .dataframe thead th {\n",
       "        text-align: right;\n",
       "    }\n",
       "</style>\n",
       "<table border=\"1\" class=\"dataframe\">\n",
       "  <thead>\n",
       "    <tr style=\"text-align: right;\">\n",
       "      <th></th>\n",
       "      <th>Year</th>\n",
       "      <th>Month</th>\n",
       "      <th>DayofMonth</th>\n",
       "      <th>DayOfWeek</th>\n",
       "      <th>DepTime</th>\n",
       "      <th>CRSDepTime</th>\n",
       "      <th>ArrTime</th>\n",
       "      <th>CRSArrTime</th>\n",
       "      <th>UniqueCarrier</th>\n",
       "      <th>FlightNum</th>\n",
       "      <th>...</th>\n",
       "      <th>TaxiIn</th>\n",
       "      <th>TaxiOut</th>\n",
       "      <th>Cancelled</th>\n",
       "      <th>Diverted</th>\n",
       "      <th>CarrierDelay</th>\n",
       "      <th>WeatherDelay</th>\n",
       "      <th>NASDelay</th>\n",
       "      <th>SecurityDelay</th>\n",
       "      <th>LateAircraftDelay</th>\n",
       "      <th>Total_Delay</th>\n",
       "    </tr>\n",
       "  </thead>\n",
       "  <tbody>\n",
       "    <tr>\n",
       "      <th>0</th>\n",
       "      <td>2006</td>\n",
       "      <td>1</td>\n",
       "      <td>11</td>\n",
       "      <td>3</td>\n",
       "      <td>743.0</td>\n",
       "      <td>745</td>\n",
       "      <td>1024.0</td>\n",
       "      <td>1018</td>\n",
       "      <td>US</td>\n",
       "      <td>343</td>\n",
       "      <td>...</td>\n",
       "      <td>45</td>\n",
       "      <td>13</td>\n",
       "      <td>0</td>\n",
       "      <td>0</td>\n",
       "      <td>0</td>\n",
       "      <td>0</td>\n",
       "      <td>0</td>\n",
       "      <td>0</td>\n",
       "      <td>0</td>\n",
       "      <td>4.0</td>\n",
       "    </tr>\n",
       "    <tr>\n",
       "      <th>1</th>\n",
       "      <td>2006</td>\n",
       "      <td>1</td>\n",
       "      <td>11</td>\n",
       "      <td>3</td>\n",
       "      <td>1053.0</td>\n",
       "      <td>1053</td>\n",
       "      <td>1313.0</td>\n",
       "      <td>1318</td>\n",
       "      <td>US</td>\n",
       "      <td>613</td>\n",
       "      <td>...</td>\n",
       "      <td>27</td>\n",
       "      <td>19</td>\n",
       "      <td>0</td>\n",
       "      <td>0</td>\n",
       "      <td>0</td>\n",
       "      <td>0</td>\n",
       "      <td>0</td>\n",
       "      <td>0</td>\n",
       "      <td>0</td>\n",
       "      <td>-5.0</td>\n",
       "    </tr>\n",
       "    <tr>\n",
       "      <th>2</th>\n",
       "      <td>2006</td>\n",
       "      <td>1</td>\n",
       "      <td>11</td>\n",
       "      <td>3</td>\n",
       "      <td>1915.0</td>\n",
       "      <td>1915</td>\n",
       "      <td>2110.0</td>\n",
       "      <td>2133</td>\n",
       "      <td>US</td>\n",
       "      <td>617</td>\n",
       "      <td>...</td>\n",
       "      <td>4</td>\n",
       "      <td>11</td>\n",
       "      <td>0</td>\n",
       "      <td>0</td>\n",
       "      <td>0</td>\n",
       "      <td>0</td>\n",
       "      <td>0</td>\n",
       "      <td>0</td>\n",
       "      <td>0</td>\n",
       "      <td>-23.0</td>\n",
       "    </tr>\n",
       "    <tr>\n",
       "      <th>3</th>\n",
       "      <td>2006</td>\n",
       "      <td>1</td>\n",
       "      <td>11</td>\n",
       "      <td>3</td>\n",
       "      <td>1753.0</td>\n",
       "      <td>1755</td>\n",
       "      <td>1925.0</td>\n",
       "      <td>1933</td>\n",
       "      <td>US</td>\n",
       "      <td>300</td>\n",
       "      <td>...</td>\n",
       "      <td>16</td>\n",
       "      <td>10</td>\n",
       "      <td>0</td>\n",
       "      <td>0</td>\n",
       "      <td>0</td>\n",
       "      <td>0</td>\n",
       "      <td>0</td>\n",
       "      <td>0</td>\n",
       "      <td>0</td>\n",
       "      <td>-10.0</td>\n",
       "    </tr>\n",
       "    <tr>\n",
       "      <th>4</th>\n",
       "      <td>2006</td>\n",
       "      <td>1</td>\n",
       "      <td>11</td>\n",
       "      <td>3</td>\n",
       "      <td>824.0</td>\n",
       "      <td>832</td>\n",
       "      <td>1015.0</td>\n",
       "      <td>1015</td>\n",
       "      <td>US</td>\n",
       "      <td>765</td>\n",
       "      <td>...</td>\n",
       "      <td>27</td>\n",
       "      <td>12</td>\n",
       "      <td>0</td>\n",
       "      <td>0</td>\n",
       "      <td>0</td>\n",
       "      <td>0</td>\n",
       "      <td>0</td>\n",
       "      <td>0</td>\n",
       "      <td>0</td>\n",
       "      <td>-8.0</td>\n",
       "    </tr>\n",
       "  </tbody>\n",
       "</table>\n",
       "<p>5 rows × 29 columns</p>\n",
       "</div>"
      ],
      "text/plain": [
       "   Year  Month  DayofMonth  DayOfWeek  DepTime  CRSDepTime  ArrTime  \\\n",
       "0  2006      1          11          3    743.0         745   1024.0   \n",
       "1  2006      1          11          3   1053.0        1053   1313.0   \n",
       "2  2006      1          11          3   1915.0        1915   2110.0   \n",
       "3  2006      1          11          3   1753.0        1755   1925.0   \n",
       "4  2006      1          11          3    824.0         832   1015.0   \n",
       "\n",
       "   CRSArrTime UniqueCarrier  FlightNum  ... TaxiIn  TaxiOut  Cancelled  \\\n",
       "0        1018            US        343  ...     45       13          0   \n",
       "1        1318            US        613  ...     27       19          0   \n",
       "2        2133            US        617  ...      4       11          0   \n",
       "3        1933            US        300  ...     16       10          0   \n",
       "4        1015            US        765  ...     27       12          0   \n",
       "\n",
       "   Diverted  CarrierDelay  WeatherDelay NASDelay SecurityDelay  \\\n",
       "0         0             0             0        0             0   \n",
       "1         0             0             0        0             0   \n",
       "2         0             0             0        0             0   \n",
       "3         0             0             0        0             0   \n",
       "4         0             0             0        0             0   \n",
       "\n",
       "   LateAircraftDelay  Total_Delay  \n",
       "0                  0          4.0  \n",
       "1                  0         -5.0  \n",
       "2                  0        -23.0  \n",
       "3                  0        -10.0  \n",
       "4                  0         -8.0  \n",
       "\n",
       "[5 rows x 29 columns]"
      ]
     },
     "execution_count": 10,
     "metadata": {},
     "output_type": "execute_result"
    }
   ],
   "source": [
    "cleaned_dataset = pd.read_csv(\"C:/Users/94772/OneDrive/Documents/PROG CW - final/cleaned_dataset.csv\")\n",
    "cleaned_dataset.head()"
   ]
  },
  {
   "cell_type": "markdown",
   "id": "51fe95e9",
   "metadata": {},
   "source": [
    "# Question 1"
   ]
  },
  {
   "cell_type": "markdown",
   "id": "ff164179",
   "metadata": {},
   "source": [
    "# When is the best time of day to fly "
   ]
  },
  {
   "cell_type": "code",
   "execution_count": 11,
   "id": "c7b57443",
   "metadata": {},
   "outputs": [],
   "source": [
    "import matplotlib.pyplot as plt\n",
    "import seaborn as sns"
   ]
  },
  {
   "cell_type": "code",
   "execution_count": 12,
   "id": "bd0e68a0",
   "metadata": {
    "scrolled": true
   },
   "outputs": [
    {
     "data": {
      "text/html": [
       "<div>\n",
       "<style scoped>\n",
       "    .dataframe tbody tr th:only-of-type {\n",
       "        vertical-align: middle;\n",
       "    }\n",
       "\n",
       "    .dataframe tbody tr th {\n",
       "        vertical-align: top;\n",
       "    }\n",
       "\n",
       "    .dataframe thead th {\n",
       "        text-align: right;\n",
       "    }\n",
       "</style>\n",
       "<table border=\"1\" class=\"dataframe\">\n",
       "  <thead>\n",
       "    <tr style=\"text-align: right;\">\n",
       "      <th></th>\n",
       "      <th>Year</th>\n",
       "      <th>Month</th>\n",
       "      <th>DayOfWeek</th>\n",
       "      <th>DepTime</th>\n",
       "      <th>ArrTime</th>\n",
       "      <th>ArrDelay</th>\n",
       "      <th>DepDelay</th>\n",
       "      <th>Total_Delay</th>\n",
       "    </tr>\n",
       "  </thead>\n",
       "  <tbody>\n",
       "    <tr>\n",
       "      <th>0</th>\n",
       "      <td>2006</td>\n",
       "      <td>1</td>\n",
       "      <td>3</td>\n",
       "      <td>743.0</td>\n",
       "      <td>1024.0</td>\n",
       "      <td>6.0</td>\n",
       "      <td>-2.0</td>\n",
       "      <td>4.0</td>\n",
       "    </tr>\n",
       "    <tr>\n",
       "      <th>1</th>\n",
       "      <td>2006</td>\n",
       "      <td>1</td>\n",
       "      <td>3</td>\n",
       "      <td>1053.0</td>\n",
       "      <td>1313.0</td>\n",
       "      <td>-5.0</td>\n",
       "      <td>0.0</td>\n",
       "      <td>-5.0</td>\n",
       "    </tr>\n",
       "    <tr>\n",
       "      <th>2</th>\n",
       "      <td>2006</td>\n",
       "      <td>1</td>\n",
       "      <td>3</td>\n",
       "      <td>1915.0</td>\n",
       "      <td>2110.0</td>\n",
       "      <td>-23.0</td>\n",
       "      <td>0.0</td>\n",
       "      <td>-23.0</td>\n",
       "    </tr>\n",
       "    <tr>\n",
       "      <th>3</th>\n",
       "      <td>2006</td>\n",
       "      <td>1</td>\n",
       "      <td>3</td>\n",
       "      <td>1753.0</td>\n",
       "      <td>1925.0</td>\n",
       "      <td>-8.0</td>\n",
       "      <td>-2.0</td>\n",
       "      <td>-10.0</td>\n",
       "    </tr>\n",
       "    <tr>\n",
       "      <th>4</th>\n",
       "      <td>2006</td>\n",
       "      <td>1</td>\n",
       "      <td>3</td>\n",
       "      <td>824.0</td>\n",
       "      <td>1015.0</td>\n",
       "      <td>0.0</td>\n",
       "      <td>-8.0</td>\n",
       "      <td>-8.0</td>\n",
       "    </tr>\n",
       "    <tr>\n",
       "      <th>...</th>\n",
       "      <td>...</td>\n",
       "      <td>...</td>\n",
       "      <td>...</td>\n",
       "      <td>...</td>\n",
       "      <td>...</td>\n",
       "      <td>...</td>\n",
       "      <td>...</td>\n",
       "      <td>...</td>\n",
       "    </tr>\n",
       "    <tr>\n",
       "      <th>14268890</th>\n",
       "      <td>2007</td>\n",
       "      <td>12</td>\n",
       "      <td>6</td>\n",
       "      <td>1558.0</td>\n",
       "      <td>1749.0</td>\n",
       "      <td>13.0</td>\n",
       "      <td>-7.0</td>\n",
       "      <td>6.0</td>\n",
       "    </tr>\n",
       "    <tr>\n",
       "      <th>14268891</th>\n",
       "      <td>2007</td>\n",
       "      <td>12</td>\n",
       "      <td>6</td>\n",
       "      <td>1902.0</td>\n",
       "      <td>2110.0</td>\n",
       "      <td>5.0</td>\n",
       "      <td>11.0</td>\n",
       "      <td>16.0</td>\n",
       "    </tr>\n",
       "    <tr>\n",
       "      <th>14268892</th>\n",
       "      <td>2007</td>\n",
       "      <td>12</td>\n",
       "      <td>6</td>\n",
       "      <td>1024.0</td>\n",
       "      <td>1750.0</td>\n",
       "      <td>15.0</td>\n",
       "      <td>-1.0</td>\n",
       "      <td>14.0</td>\n",
       "    </tr>\n",
       "    <tr>\n",
       "      <th>14268893</th>\n",
       "      <td>2007</td>\n",
       "      <td>12</td>\n",
       "      <td>6</td>\n",
       "      <td>1353.0</td>\n",
       "      <td>1658.0</td>\n",
       "      <td>36.0</td>\n",
       "      <td>38.0</td>\n",
       "      <td>74.0</td>\n",
       "    </tr>\n",
       "    <tr>\n",
       "      <th>14268894</th>\n",
       "      <td>2007</td>\n",
       "      <td>12</td>\n",
       "      <td>6</td>\n",
       "      <td>1824.0</td>\n",
       "      <td>2001.0</td>\n",
       "      <td>33.0</td>\n",
       "      <td>24.0</td>\n",
       "      <td>57.0</td>\n",
       "    </tr>\n",
       "  </tbody>\n",
       "</table>\n",
       "<p>14268895 rows × 8 columns</p>\n",
       "</div>"
      ],
      "text/plain": [
       "          Year  Month  DayOfWeek  DepTime  ArrTime  ArrDelay  DepDelay  \\\n",
       "0         2006      1          3    743.0   1024.0       6.0      -2.0   \n",
       "1         2006      1          3   1053.0   1313.0      -5.0       0.0   \n",
       "2         2006      1          3   1915.0   2110.0     -23.0       0.0   \n",
       "3         2006      1          3   1753.0   1925.0      -8.0      -2.0   \n",
       "4         2006      1          3    824.0   1015.0       0.0      -8.0   \n",
       "...        ...    ...        ...      ...      ...       ...       ...   \n",
       "14268890  2007     12          6   1558.0   1749.0      13.0      -7.0   \n",
       "14268891  2007     12          6   1902.0   2110.0       5.0      11.0   \n",
       "14268892  2007     12          6   1024.0   1750.0      15.0      -1.0   \n",
       "14268893  2007     12          6   1353.0   1658.0      36.0      38.0   \n",
       "14268894  2007     12          6   1824.0   2001.0      33.0      24.0   \n",
       "\n",
       "          Total_Delay  \n",
       "0                 4.0  \n",
       "1                -5.0  \n",
       "2               -23.0  \n",
       "3               -10.0  \n",
       "4                -8.0  \n",
       "...               ...  \n",
       "14268890          6.0  \n",
       "14268891         16.0  \n",
       "14268892         14.0  \n",
       "14268893         74.0  \n",
       "14268894         57.0  \n",
       "\n",
       "[14268895 rows x 8 columns]"
      ]
     },
     "execution_count": 12,
     "metadata": {},
     "output_type": "execute_result"
    }
   ],
   "source": [
    "delays = cleaned_dataset[['Year','Month','DayOfWeek','DepTime','ArrTime','ArrDelay','DepDelay','Total_Delay']]\n",
    "delays"
   ]
  },
  {
   "cell_type": "markdown",
   "id": "212ea7a8",
   "metadata": {},
   "source": [
    "## Drop rows with missing values"
   ]
  },
  {
   "cell_type": "code",
   "execution_count": 13,
   "id": "a31c3be8",
   "metadata": {},
   "outputs": [],
   "source": [
    "delays = delays.dropna(subset=['ArrDelay','DepDelay','Total_Delay'])"
   ]
  },
  {
   "cell_type": "markdown",
   "id": "8dbf9fa9",
   "metadata": {},
   "source": [
    "##  Add a new column to the dataframe that categorizes the departure time into time slots"
   ]
  },
  {
   "cell_type": "code",
   "execution_count": 14,
   "id": "6e2d1154",
   "metadata": {},
   "outputs": [],
   "source": [
    "bins = [0, 600, 1200, 1800, 2400]\n",
    "labels = ['Night', 'Morning', 'Afternoon', 'Evening']\n",
    "delays['TimeOfDay'] = pd.cut(delays['DepTime'], bins=bins, labels=labels, include_lowest=True)"
   ]
  },
  {
   "cell_type": "markdown",
   "id": "6a0a6b4d",
   "metadata": {},
   "source": [
    "## Group the data by time slot and find the average of ArrDelay, DepDelay, and Total_Delay"
   ]
  },
  {
   "cell_type": "code",
   "execution_count": 15,
   "id": "8d050263",
   "metadata": {},
   "outputs": [],
   "source": [
    "time_of_day = labels\n",
    "avg_arr_delay = []\n",
    "avg_dep_delay = []\n",
    "avg_total_delay = []\n",
    "\n",
    "for time in time_of_day:\n",
    "    avg_arr_delay.append(delays[delays['TimeOfDay']==time]['ArrDelay'].mean())\n",
    "    avg_dep_delay.append(delays[delays['TimeOfDay']==time]['DepDelay'].mean())\n",
    "    avg_total_delay.append(delays[delays['TimeOfDay']==time]['Total_Delay'].mean())"
   ]
  },
  {
   "cell_type": "markdown",
   "id": "e68039b8",
   "metadata": {},
   "source": [
    "## Create a table with time slot, average arrival delay, average departure delay, and average delay (from both columns)"
   ]
  },
  {
   "cell_type": "code",
   "execution_count": 16,
   "id": "4213f642",
   "metadata": {},
   "outputs": [
    {
     "name": "stdout",
     "output_type": "stream",
     "text": [
      "   TimeOfDay  AvgArrDelay  AvgDepDelay  AvgTotalDelay\n",
      "0      Night     8.842805    10.604547      19.447352\n",
      "1    Morning     1.877114     3.231829       5.108942\n",
      "2  Afternoon    10.038093    11.112278      21.150371\n",
      "3    Evening    21.602716    23.011219      44.613935\n"
     ]
    }
   ],
   "source": [
    "delay_dataset = pd.DataFrame({'TimeOfDay': time_of_day,\n",
    "                         'AvgArrDelay': avg_arr_delay,\n",
    "                         'AvgDepDelay': avg_dep_delay,\n",
    "                         'AvgTotalDelay': avg_total_delay})\n",
    "print(delay_dataset)\n"
   ]
  },
  {
   "cell_type": "markdown",
   "id": "df4e1743",
   "metadata": {},
   "source": [
    "## Plot a bar chart to visualize the average delay by time of day"
   ]
  },
  {
   "cell_type": "code",
   "execution_count": 17,
   "id": "45855d87",
   "metadata": {},
   "outputs": [
    {
     "data": {
      "image/png": "[encoded data removed]",
      "text/plain": [
       "<Figure size 432x288 with 1 Axes>"
      ]
     },
     "metadata": {
      "needs_background": "light"
     },
     "output_type": "display_data"
    }
   ],
   "source": [
    "plt.bar(delay_dataset['TimeOfDay'], delay_dataset['AvgTotalDelay'], color = '#00bfa5')\n",
    "plt.xlabel('Time of Day')\n",
    "plt.ylabel('Average Delay (min)')\n",
    "plt.title('Average Delay by Time of Day')\n",
    "plt.show()"
   ]
  },
  {
   "cell_type": "markdown",
   "id": "85f53e7d",
   "metadata": {},
   "source": [
    "# When is the best time of the week to fly"
   ]
  },
  {
   "cell_type": "markdown",
   "id": "3886ef0c",
   "metadata": {},
   "source": [
    "## Convert the DayOfWeek column to a string for easier readability"
   ]
  },
  {
   "cell_type": "code",
   "execution_count": 18,
   "id": "1bca608c",
   "metadata": {},
   "outputs": [],
   "source": [
    "delays['DayOfWeek'] = delays['DayOfWeek'].replace({1: 'Monday', 2: 'Tuesday', 3: 'Wednesday',\n",
    "                                                     4: 'Thursday', 5: 'Friday', 6: 'Saturday',\n",
    "                                                     7: 'Sunday'})"
   ]
  },
  {
   "cell_type": "markdown",
   "id": "560fcb1a",
   "metadata": {},
   "source": [
    "## Calculate the average delay for both departure and arrival"
   ]
  },
  {
   "cell_type": "code",
   "execution_count": 19,
   "id": "507bd584",
   "metadata": {},
   "outputs": [],
   "source": [
    "delays['DepDelay'] = delays['DepDelay'].fillna(0)\n",
    "delays['ArrDelay'] = delays['ArrDelay'].fillna(0)\n",
    "delays['AvgDepDelay'] = delays.groupby('DayOfWeek')['DepDelay'].transform('mean')\n",
    "delays['AvgArrDelay'] = delays.groupby('DayOfWeek')['ArrDelay'].transform('mean')\n",
    "delays['AvgTotalDelay'] = (delays['Total_Delay']).groupby(delays['DayOfWeek']).transform('mean')"
   ]
  },
  {
   "cell_type": "markdown",
   "id": "d7410210",
   "metadata": {},
   "source": [
    "## Create a table with the day of the week, average arrival delay, average departure delay, and average delay"
   ]
  },
  {
   "cell_type": "code",
   "execution_count": 20,
   "id": "738ea36d",
   "metadata": {},
   "outputs": [],
   "source": [
    "delay_table = delays.groupby('DayOfWeek', as_index=False).agg({\n",
    "    'AvgArrDelay': 'mean',\n",
    "    'AvgDepDelay': 'mean',\n",
    "    'AvgTotalDelay': 'mean'\n",
    "})\n"
   ]
  },
  {
   "cell_type": "markdown",
   "id": "fcf97a24",
   "metadata": {},
   "source": [
    "## Create a DataFrame with all days of the week"
   ]
  },
  {
   "cell_type": "code",
   "execution_count": 21,
   "id": "ca292e0b",
   "metadata": {},
   "outputs": [],
   "source": [
    "days_of_week = ['Monday', 'Tuesday', 'Wednesday', 'Thursday', 'Friday', 'Saturday', 'Sunday']\n",
    "all_days = pd.DataFrame({'DayOfWeek': days_of_week})"
   ]
  },
  {
   "cell_type": "markdown",
   "id": "9f943a23",
   "metadata": {},
   "source": [
    "## Merge the all_days DataFrame with the Delay_Table"
   ]
  },
  {
   "cell_type": "code",
   "execution_count": 22,
   "id": "2fe64ae6",
   "metadata": {},
   "outputs": [],
   "source": [
    "delay_table = pd.merge(all_days, delay_table, on='DayOfWeek', how='left')"
   ]
  },
  {
   "cell_type": "markdown",
   "id": "90c5f0ed",
   "metadata": {},
   "source": [
    "## Display the delay table"
   ]
  },
  {
   "cell_type": "code",
   "execution_count": 23,
   "id": "d33bcac3",
   "metadata": {},
   "outputs": [
    {
     "name": "stdout",
     "output_type": "stream",
     "text": [
      "   DayOfWeek  AvgArrDelay  AvgDepDelay  AvgTotalDelay\n",
      "0     Monday     9.661379    11.066459      20.727838\n",
      "1    Tuesday     7.221367     8.505992      15.727359\n",
      "2  Wednesday     8.953476     9.739189      18.692665\n",
      "3   Thursday    12.094731    12.269889      24.364620\n",
      "4     Friday    12.660901    13.258466      25.919366\n",
      "5   Saturday     5.495174     8.603640      14.098814\n",
      "6     Sunday     9.201350    11.029420      20.230770\n"
     ]
    }
   ],
   "source": [
    "print(delay_table)"
   ]
  },
  {
   "cell_type": "markdown",
   "id": "93bf481a",
   "metadata": {},
   "source": [
    "## Create a line plot of the average delay for each day of the week\n"
   ]
  },
  {
   "cell_type": "code",
   "execution_count": 24,
   "id": "cc8773ff",
   "metadata": {},
   "outputs": [
    {
     "data": {
      "image/png": "[encoded data removed]",
      "text/plain": [
       "<Figure size 864x576 with 1 Axes>"
      ]
     },
     "metadata": {
      "needs_background": "light"
     },
     "output_type": "display_data"
    }
   ],
   "source": [
    "plt.figure(figsize=(12, 8))\n",
    "plt.plot(delay_table['DayOfWeek'], delay_table['AvgTotalDelay'], label='Average Delay', color = '#00bfa5')\n",
    "plt.xlabel('Day of the Week')\n",
    "plt.ylabel('Average Delay (mins)')\n",
    "plt.title('Average Flight Delays by Day of the Week')\n",
    "plt.legend()\n",
    "plt.show()"
   ]
  },
  {
   "cell_type": "markdown",
   "id": "ecacb461",
   "metadata": {},
   "source": [
    "# When is the best time of the year to fly"
   ]
  },
  {
   "cell_type": "markdown",
   "id": "35a466a6",
   "metadata": {},
   "source": [
    "## Add a new column to the dataframe that combines the year and month columns"
   ]
  },
  {
   "cell_type": "code",
   "execution_count": 25,
   "id": "aa1ab4f6",
   "metadata": {},
   "outputs": [],
   "source": [
    "delays['YearMonth'] = pd.to_datetime(delays['Year'].astype(str) + delays['Month'].astype(str), format='%Y%m')"
   ]
  },
  {
   "cell_type": "markdown",
   "id": "bdc5e153",
   "metadata": {},
   "source": [
    "## Convert the Month column to a string for easier readability"
   ]
  },
  {
   "cell_type": "code",
   "execution_count": 26,
   "id": "b2f574c5",
   "metadata": {},
   "outputs": [],
   "source": [
    "delays['Month'] = delays['Month'].replace({1: 'Jan', 2: 'Feb', 3: 'Mar',\n",
    "                                                     4: 'Apr', 5: 'May', 6: 'Jun',\n",
    "                                                     7: 'Jul', 8: 'Aug', 9: 'Sep', 10: 'Oct', 11: 'Nov', 12: 'Dec'})\n"
   ]
  },
  {
   "cell_type": "markdown",
   "id": "69c0ed2e",
   "metadata": {},
   "source": [
    "## Group the data by month and find the average of ArrDelay, DepDelay, and total_delay"
   ]
  },
  {
   "cell_type": "code",
   "execution_count": 27,
   "id": "7d26a77e",
   "metadata": {},
   "outputs": [],
   "source": [
    "month_of_year = ['Jan','Feb','Mar','Apr','May','Jun','Jul','Aug','Sep','Oct','Nov','Dec']\n",
    "avg_arr_delay = []\n",
    "avg_dep_delay = []\n",
    "avg_total_delay = []\n",
    "\n",
    "for month in month_of_year:\n",
    "    avg_arr_delay.append(delays[delays['Month']==month]['ArrDelay'].mean())\n",
    "    avg_dep_delay.append(delays[delays['Month']==month]['DepDelay'].mean())\n",
    "    avg_total_delay.append(delays[delays['Month']==month]['Total_Delay'].mean())\n"
   ]
  },
  {
   "cell_type": "markdown",
   "id": "3a7230a9",
   "metadata": {},
   "source": [
    "## Create a table with month, average arrival delay, average departure delay, and average delay (from both columns) "
   ]
  },
  {
   "cell_type": "code",
   "execution_count": 28,
   "id": "44491ce7",
   "metadata": {},
   "outputs": [
    {
     "name": "stdout",
     "output_type": "stream",
     "text": [
      "   Month  AvgArrDelay  AvgDepDelay  AvgTotalDelay\n",
      "0    Jan     7.416097     9.156057      16.572155\n",
      "1    Feb    10.473841    11.569844      22.043685\n",
      "2    Mar     9.004440    10.757595      19.762034\n",
      "3    Apr     7.464281     9.108711      16.572992\n",
      "4    May     6.940931     8.382425      15.323357\n",
      "5    Jun    14.090157    14.482769      28.572926\n",
      "6    Jul    12.685577    13.685925      26.371502\n",
      "7    Aug    10.587973    11.651760      22.239733\n",
      "8    Sep     5.983817     7.364956      13.348773\n",
      "9    Oct     8.523575     9.209133      17.732707\n",
      "10   Nov     5.993413     8.151129      14.144542\n",
      "11   Dec    13.688153    14.624313      28.312466\n"
     ]
    }
   ],
   "source": [
    "delay_df = pd.DataFrame({'Month': month_of_year,\n",
    "                         'AvgArrDelay': avg_arr_delay,\n",
    "                         'AvgDepDelay': avg_dep_delay,\n",
    "                         'AvgTotalDelay': avg_total_delay})\n",
    "print(delay_df)"
   ]
  },
  {
   "cell_type": "markdown",
   "id": "855b76e6",
   "metadata": {},
   "source": [
    "## Plot a line chart to visualize the average delay by month"
   ]
  },
  {
   "cell_type": "code",
   "execution_count": 29,
   "id": "ac83a4a1",
   "metadata": {},
   "outputs": [
    {
     "data": {
      "image/png": "[encoded data removed]",
      "text/plain": [
       "<Figure size 720x360 with 1 Axes>"
      ]
     },
     "metadata": {
      "needs_background": "light"
     },
     "output_type": "display_data"
    }
   ],
   "source": [
    "fig, ax = plt.subplots(figsize=(10,5))\n",
    "plt.plot(delay_df['Month'], delay_df['AvgTotalDelay'], marker='o', color = '#00bfa5')\n",
    "plt.xticks(month_of_year)\n",
    "plt.xlabel('Month of Year')\n",
    "plt.ylabel('Average Delay (min)')\n",
    "plt.title('Average Delay by Month of Year')\n",
    "plt.show()"
   ]
  }
 ],
 "metadata": {
  "kernelspec": {
   "display_name": "Python 3 (ipykernel)",
   "language": "python",
   "name": "python3"
  },
  "language_info": {
   "codemirror_mode": {
    "name": "ipython",
    "version": 3
   },
   "file_extension": ".py",
   "mimetype": "text/x-python",
   "name": "python",
   "nbconvert_exporter": "python",
   "pygments_lexer": "ipython3",
   "version": "3.9.12"
  }
 },
 "nbformat": 4,
 "nbformat_minor": 5
}
